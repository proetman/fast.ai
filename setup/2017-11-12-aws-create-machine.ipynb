{
 "cells": [
  {
   "cell_type": "markdown",
   "metadata": {},
   "source": [
    "# Create AWS machine"
   ]
  },
  {
   "cell_type": "markdown",
   "metadata": {},
   "source": [
    "## Setup"
   ]
  },
  {
   "cell_type": "markdown",
   "metadata": {
    "heading_collapsed": true
   },
   "source": [
    "### Other options"
   ]
  },
  {
   "cell_type": "markdown",
   "metadata": {
    "hidden": true
   },
   "source": [
    "Other instance types available\n",
    "```\n",
    "while testing the setup, use a free teir!\n",
    "export instanceType=\"t2.micro\"  # cannot do spot rates with this\n",
    "\n",
    "g_instanceType=\"m4.large\"    # 4 c per hour\n",
    "g_instanceType=\"m4.xlarge\"   # 7 c per hour\n",
    "g_instanceType=\"p2.xlarge\"   # 23 c per hour\n",
    "```\n",
    "\n",
    "Other Regions available\n",
    "```\n",
    "g_profile = 'eu'\n",
    "g_profile = 'us-east'\n",
    "g_profile = 'au'\n",
    "\n",
    "\n",
    "default region (leave null)\n",
    "ap-southeast-2   # Sydney\n",
    "```\n",
    "\n",
    "AMI\n",
    "```\n",
    "ami = 'ami-bc508adc'   # Oregon   \"us-west-2\" \n",
    "ami = 'ami-b43d1ec7'   # Ireland  \"eu-west-1\"\n",
    "ami = 'ami-31ecfb26'   # Virginia \"us-east-1\" \n",
    "```\n"
   ]
  },
  {
   "cell_type": "markdown",
   "metadata": {},
   "source": [
    "### Constants and Env variables"
   ]
  },
  {
   "cell_type": "code",
   "execution_count": 3,
   "metadata": {
    "ExecuteTime": {
     "end_time": "2017-11-18T21:36:26.124512Z",
     "start_time": "2017-11-18T21:36:26.122140Z"
    }
   },
   "outputs": [],
   "source": [
    "g_profile = 'us-east'            # profiles: au | us-east | eu\n",
    "g_instance_type = 'm4.large'\n",
    "ami = 'ami-31ecfb26'             # only in us-east-1, virginia"
   ]
  },
  {
   "cell_type": "code",
   "execution_count": 4,
   "metadata": {
    "ExecuteTime": {
     "end_time": "2017-11-18T21:36:26.137868Z",
     "start_time": "2017-11-18T21:36:26.129952Z"
    },
    "code_folding": [],
    "run_control": {
     "marked": true
    }
   },
   "outputs": [],
   "source": [
    "# Fixed constansts\n",
    "g_name = 'fast-ai'\n",
    "g_cidr = '0.0.0/0'"
   ]
  },
  {
   "cell_type": "code",
   "execution_count": 5,
   "metadata": {
    "ExecuteTime": {
     "end_time": "2017-11-18T21:36:26.219012Z",
     "start_time": "2017-11-18T21:36:26.139555Z"
    },
    "code_folding": [],
    "run_control": {
     "marked": true
    }
   },
   "outputs": [],
   "source": [
    "# Import libraries\n",
    "import boto3"
   ]
  },
  {
   "cell_type": "markdown",
   "metadata": {},
   "source": [
    "## Functions"
   ]
  },
  {
   "cell_type": "code",
   "execution_count": 42,
   "metadata": {
    "ExecuteTime": {
     "end_time": "2017-11-18T22:01:24.900177Z",
     "start_time": "2017-11-18T22:01:24.892395Z"
    }
   },
   "outputs": [],
   "source": [
    "def create_vpc(p_ec2_resource):\n",
    "    \"\"\"\n",
    "    export vpcId=$(aws ec2 create-vpc --cidr-block 10.0.0.0/28 --query 'Vpc.VpcId' --output text)\n",
    "    aws ec2 create-tags --resources $vpcId --tags --tags Key=Name,Value=$name\n",
    "    aws ec2 modify-vpc-attribute --vpc-id $vpcId --enable-dns-support \"{\\\"Value\\\":true}\"\n",
    "    aws ec2 modify-vpc-attribute --vpc-id $vpcId --enable-dns-hostnames \"{\\\"Value\\\":true}\"\n",
    "\n",
    "    \"\"\"\n",
    "    # Find out if a VPC already exists for this range\n",
    "\n",
    "    \n",
    "    filters = [{\"Name\": \"tag:Name\", \"Values\": [g_name]}]\n",
    "    filters = [{\"Name\": \"tag:Name\", \"Values\": '*'}]\n",
    "    l_vpc = list(p_ec2_resource.vpcs.filter(Filters=filters))\n",
    "    \n",
    "    if len(l_vpc) == 0:\n",
    "        print('There are no VPC for tag: {}, so will create one!'.format(g_name))\n",
    "        l_vpc_id = p_ec2_resource.create_vpc(CidrBlock='10.0.0.0/28')\n",
    "        l_vpc_id.create_tags(Tags=[{\"Key\": \"Name\", \"Value\": g_name}])\n",
    "        print('Creating...please wait')\n",
    "        l_vpc_id.wait_until_available()\n",
    "        print('Complete')\n",
    "        print(l_vpc_id)\n",
    "    else:\n",
    "        print('There is a VPC for tag: {} already. Doing nothing.')\n",
    "        \n",
    "\n",
    "\n",
    "    \n",
    "    \n"
   ]
  },
  {
   "cell_type": "markdown",
   "metadata": {},
   "source": [
    "## Main"
   ]
  },
  {
   "cell_type": "code",
   "execution_count": 69,
   "metadata": {
    "ExecuteTime": {
     "end_time": "2017-11-18T22:47:27.354247Z",
     "start_time": "2017-11-18T22:47:25.601635Z"
    }
   },
   "outputs": [
    {
     "name": "stdout",
     "output_type": "stream",
     "text": [
      "Current region: us-east-1\n",
      "len l_vpc = 0\n"
     ]
    }
   ],
   "source": [
    "l_session = boto3.Session(profile_name = g_profile)\n",
    "l_region = l_session.region_name\n",
    "\n",
    "print('Current region: {}'.format(l_region))\n",
    "\n",
    "ec2_resource = l_session.resource('ec2')   \n",
    "ec2_client   = l_session.client('ec2')     # lowest level\n",
    "\n",
    "vpc_to_delete = 'vpc-7577f10d'\n",
    "\n",
    "# l_vpc = ec2_resource.Vpc(id = vpc_to_delete)\n",
    "# print(l_vpc)\n",
    "# l_vpc.delete()\n",
    "\n",
    "filters = [{'Name': \"tag:Name\", 'Values':['fast*']}]\n",
    "l_vpc = list(ec2_resource.vpcs.filter(Filters=filters))\n",
    "print('len l_vpc = {}'.format(len(l_vpc)))\n",
    "for vpc in l_vpc:\n",
    "    response = client.describe_vpcs(VpcIds=[vpc.id,])\n",
    "    print(json.dumps(response, sort_keys=True, indent=4))\n",
    "# print(l_vpc)\n",
    "\n",
    "# vpc_id = ec2_resource.Vpc(vpc)\n",
    "# vpc_id.id\n",
    "# print('vpc id = {}'.format(vpc_id))\n",
    "# print(dir(ec2_resource))\n",
    "# ec2_resource.Vpc.\n",
    "\n",
    "\n",
    "\n",
    "# ec2_resource.create_vpc\n",
    "# ec2_client.create_vpc\n",
    "\n",
    "# reate_vpc(ec2_resource)\n",
    "\n",
    "# List all instances for this client\n",
    "# response = ec2_client.describe_instances()\n",
    "# print(response)\n",
    "\n",
    "\n",
    "    "
   ]
  },
  {
   "cell_type": "code",
   "execution_count": 13,
   "metadata": {
    "ExecuteTime": {
     "end_time": "2017-11-18T21:39:18.809243Z",
     "start_time": "2017-11-18T21:39:18.782664Z"
    }
   },
   "outputs": [],
   "source": [
    "?ec2_client.modify_vpc_attribute"
   ]
  },
  {
   "cell_type": "code",
   "execution_count": 14,
   "metadata": {
    "ExecuteTime": {
     "end_time": "2017-11-18T21:39:33.522285Z",
     "start_time": "2017-11-18T21:39:31.988287Z"
    }
   },
   "outputs": [
    {
     "data": {
      "text/plain": [
       "'vpc-18f06560'"
      ]
     },
     "execution_count": 14,
     "metadata": {},
     "output_type": "execute_result"
    }
   ],
   "source": [
    "my_vpc = ec2_client.create_vpc(CidrBlock = '10.0.0.0/28')\n",
    "\n",
    "setval = [{'Value':True}]\n",
    "my_vpc['Vpc']['VpcId']\n",
    "\n",
    "# list(ec2_boto3.vpcs)"
   ]
  },
  {
   "cell_type": "code",
   "execution_count": 16,
   "metadata": {
    "ExecuteTime": {
     "end_time": "2017-11-18T21:39:58.467375Z",
     "start_time": "2017-11-18T21:39:57.043893Z"
    }
   },
   "outputs": [
    {
     "data": {
      "text/plain": [
       "{'ResponseMetadata': {'HTTPHeaders': {'content-type': 'text/xml;charset=UTF-8',\n",
       "   'date': 'Sat, 18 Nov 2017 21:39:58 GMT',\n",
       "   'server': 'AmazonEC2',\n",
       "   'transfer-encoding': 'chunked',\n",
       "   'vary': 'Accept-Encoding'},\n",
       "  'HTTPStatusCode': 200,\n",
       "  'RequestId': '3086959d-def9-4a1d-b040-6cdb9595391e',\n",
       "  'RetryAttempts': 0}}"
      ]
     },
     "execution_count": 16,
     "metadata": {},
     "output_type": "execute_result"
    }
   ],
   "source": [
    "ec2_client.modify_vpc_attribute(VpcId=my_vpc['Vpc']['VpcId'], EnableDnsSupport={'Value':True})\n"
   ]
  },
  {
   "cell_type": "code",
   "execution_count": 51,
   "metadata": {
    "ExecuteTime": {
     "end_time": "2017-11-13T09:39:16.354671Z",
     "start_time": "2017-11-13T09:39:15.148976Z"
    }
   },
   "outputs": [
    {
     "data": {
      "text/plain": [
       "{'ResponseMetadata': {'HTTPHeaders': {'content-type': 'text/xml;charset=UTF-8',\n",
       "   'date': 'Mon, 13 Nov 2017 09:39:15 GMT',\n",
       "   'server': 'AmazonEC2',\n",
       "   'transfer-encoding': 'chunked',\n",
       "   'vary': 'Accept-Encoding'},\n",
       "  'HTTPStatusCode': 200,\n",
       "  'RequestId': 'c7c5cec6-0606-44e0-bbf3-18ff1e930107',\n",
       "  'RetryAttempts': 0}}"
      ]
     },
     "execution_count": 51,
     "metadata": {},
     "output_type": "execute_result"
    }
   ],
   "source": [
    "ec2_client.modify_vpc_attribute(VpcId=my_vpc['Vpc']['VpcId'], EnableDnsHostnames={'Value':True})"
   ]
  },
  {
   "cell_type": "markdown",
   "metadata": {
    "ExecuteTime": {
     "end_time": "2017-11-13T09:40:26.130702Z",
     "start_time": "2017-11-13T09:40:26.121634Z"
    }
   },
   "source": [
    "### Verify VPC parameters are correct"
   ]
  },
  {
   "cell_type": "code",
   "execution_count": null,
   "metadata": {},
   "outputs": [],
   "source": []
  },
  {
   "cell_type": "code",
   "execution_count": null,
   "metadata": {},
   "outputs": [],
   "source": []
  },
  {
   "cell_type": "code",
   "execution_count": null,
   "metadata": {},
   "outputs": [],
   "source": []
  },
  {
   "cell_type": "markdown",
   "metadata": {},
   "source": [
    "### How to delete a VPC (incomplete)"
   ]
  },
  {
   "cell_type": "code",
   "execution_count": 66,
   "metadata": {
    "ExecuteTime": {
     "end_time": "2017-11-13T09:49:55.838674Z",
     "start_time": "2017-11-13T09:49:55.447549Z"
    }
   },
   "outputs": [
    {
     "name": "stdout",
     "output_type": "stream",
     "text": [
      "List of available VPC\n",
      "END List of available VPC\n",
      "ec2.Vpc(id='vpc-87f5f8e3')\n",
      "    Probably has dependencies, skipping needs more coding here!\n"
     ]
    }
   ],
   "source": [
    "vpc_iterator = ec2.vpcs.all()\n",
    "for x in vpc_iterator:\n",
    "    print(x)\n",
    "    try:\n",
    "        x.delete()\n",
    "    except:\n",
    "        print('    Probably has dependencies, skipping needs more coding here!')\n",
    "\n",
    "# https://gist.github.com/neilswinton/d37787a8d84387c591ff365594bd26ed\n",
    "\n",
    "# Call EC2.Client.describe_vpc_endpoints. Filter on your VPC id.Call EC2.client.delete_vpc_endpoints on each\n",
    "\n",
    "# Call VPC.security_groups. Delete the group unless its group_name attribute is \"main\". The main security group will be deleted via VPC.delete().\n",
    "\n",
    "# Call EC2.Client.describe_vpc_peering_connections. Filter on your VPC id as the requester-vpc-info.vpc-id. (My VPC is a requester. There is also accepter-vpc-info.vpc-id among other filters.) Iterate through the entries keyed by VpcPeeringConnections. Get an instance of the peering connection by instantiating a EC2.ServiceResource.VpcPeeringConnection with the VpcPeeringConnectionId. Call VpcPeeringConnection.delete() to remove the peering connection.\n",
    "\n",
    "# Call vpc.route_tables.all() and iterate through the route tables. For each route table, iterate through its routes using the RouteTable.routes attribute. Delete the routes where route['Origin'] is 'CreateRoute'. I deleted using EC2.Client.delete_route using EC2.RouteTable.id and route['DestinationCidrBlock']. After removing the routes, call EC2.RouteTable.delete() to remove the route table itself. I set up exception handlers for each delete. Not every route table can be deleted, but I haven't cracked the code code. Maybe next week.\n",
    "\n",
    "# Iterate through vpc.network_acls.all(), test the NetworkAcl.is_default attribute and call NetworkAcl.delete for non-default acls.\n",
    "\n",
    "# Iterate through vpc.subnets.all().network_interfaces.all(). Call EC2.NetworkInterface.delete() on each.\n",
    "\n",
    "# Iterate through vpc.internet_gateways.all(). Call EC2.InternetGateway.delete() on each.\n",
    "\n",
    "# Call vpc.delete()\n",
    "        "
   ]
  },
  {
   "cell_type": "code",
   "execution_count": 62,
   "metadata": {
    "ExecuteTime": {
     "end_time": "2017-11-13T09:46:19.628878Z",
     "start_time": "2017-11-13T09:46:19.625260Z"
    }
   },
   "outputs": [],
   "source": [
    "?ec2.vpcs.all"
   ]
  },
  {
   "cell_type": "code",
   "execution_count": null,
   "metadata": {},
   "outputs": [],
   "source": []
  }
 ],
 "metadata": {
  "kernelspec": {
   "display_name": "Python 2",
   "language": "python",
   "name": "python2"
  },
  "language_info": {
   "codemirror_mode": {
    "name": "ipython",
    "version": 2
   },
   "file_extension": ".py",
   "mimetype": "text/x-python",
   "name": "python",
   "nbconvert_exporter": "python",
   "pygments_lexer": "ipython2",
   "version": "2.7.14"
  },
  "toc": {
   "nav_menu": {},
   "number_sections": true,
   "sideBar": true,
   "skip_h1_title": false,
   "toc_cell": false,
   "toc_position": {},
   "toc_section_display": "block",
   "toc_window_display": true
  },
  "varInspector": {
   "cols": {
    "lenName": 16,
    "lenType": 16,
    "lenVar": 40
   },
   "kernels_config": {
    "python": {
     "delete_cmd_postfix": "",
     "delete_cmd_prefix": "del ",
     "library": "var_list.py",
     "varRefreshCmd": "print(var_dic_list())"
    },
    "r": {
     "delete_cmd_postfix": ") ",
     "delete_cmd_prefix": "rm(",
     "library": "var_list.r",
     "varRefreshCmd": "cat(var_dic_list()) "
    }
   },
   "types_to_exclude": [
    "module",
    "function",
    "builtin_function_or_method",
    "instance",
    "_Feature"
   ],
   "window_display": true
  }
 },
 "nbformat": 4,
 "nbformat_minor": 2
}
