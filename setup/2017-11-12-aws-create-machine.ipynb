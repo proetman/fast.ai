{
 "cells": [
  {
   "cell_type": "markdown",
   "metadata": {},
   "source": [
    "# Create AWS machine"
   ]
  },
  {
   "cell_type": "markdown",
   "metadata": {},
   "source": [
    "## Setup"
   ]
  },
  {
   "cell_type": "markdown",
   "metadata": {
    "heading_collapsed": true
   },
   "source": [
    "### Other options"
   ]
  },
  {
   "cell_type": "markdown",
   "metadata": {
    "hidden": true
   },
   "source": [
    "Other instance types available\n",
    "```\n",
    "while testing the setup, use a free teir!\n",
    "export instanceType=\"t2.micro\"  # cannot do spot rates with this\n",
    "\n",
    "g_instanceType=\"m4.large\"    # 4 c per hour\n",
    "g_instanceType=\"m4.xlarge\"   # 7 c per hour\n",
    "g_instanceType=\"p2.xlarge\"   # 23 c per hour\n",
    "```\n",
    "\n",
    "Other Regions available\n",
    "```\n",
    "g_profile = 'eu'\n",
    "g_profile = 'us-east'\n",
    "g_profile = 'au'\n",
    "\n",
    "\n",
    "default region (leave null)\n",
    "ap-southeast-2   # Sydney\n",
    "```\n",
    "\n",
    "AMI\n",
    "```\n",
    "ami = 'ami-bc508adc'   # Oregon   \"us-west-2\" \n",
    "ami = 'ami-b43d1ec7'   # Ireland  \"eu-west-1\"\n",
    "ami = 'ami-31ecfb26'   # Virginia \"us-east-1\" \n",
    "```\n"
   ]
  },
  {
   "cell_type": "markdown",
   "metadata": {},
   "source": [
    "### Constants and Env variables"
   ]
  },
  {
   "cell_type": "code",
   "execution_count": 16,
   "metadata": {
    "ExecuteTime": {
     "end_time": "2017-11-13T09:05:20.686828Z",
     "start_time": "2017-11-13T09:05:20.684030Z"
    }
   },
   "outputs": [],
   "source": [
    "g_profile = 'us-east'\n",
    "g_instance_type = 'm4.large'\n",
    "ami = 'ami-31ecfb26'             # only in us-east-1, virginia"
   ]
  },
  {
   "cell_type": "code",
   "execution_count": 17,
   "metadata": {
    "ExecuteTime": {
     "end_time": "2017-11-13T09:05:22.946965Z",
     "start_time": "2017-11-13T09:05:22.944274Z"
    },
    "code_folding": [],
    "run_control": {
     "marked": true
    }
   },
   "outputs": [],
   "source": [
    "# Fixed constansts\n",
    "g_name = 'fast-ai'\n",
    "g_cidr = '0.0.0/0'"
   ]
  },
  {
   "cell_type": "code",
   "execution_count": 18,
   "metadata": {
    "ExecuteTime": {
     "end_time": "2017-11-13T09:05:24.824370Z",
     "start_time": "2017-11-13T09:05:24.821867Z"
    },
    "code_folding": [],
    "run_control": {
     "marked": true
    }
   },
   "outputs": [],
   "source": [
    "# Import libraries\n",
    "import boto3"
   ]
  },
  {
   "cell_type": "markdown",
   "metadata": {},
   "source": [
    "## Functions"
   ]
  },
  {
   "cell_type": "code",
   "execution_count": 13,
   "metadata": {
    "ExecuteTime": {
     "end_time": "2017-11-11T21:08:30.560072Z",
     "start_time": "2017-11-11T21:08:29.062094Z"
    }
   },
   "outputs": [
    {
     "name": "stdout",
     "output_type": "stream",
     "text": [
      "{u'Reservations': [], 'ResponseMetadata': {'RetryAttempts': 0, 'HTTPStatusCode': 200, 'RequestId': '6e5c7c5e-9338-4b8e-95fe-a9c0fda6a4b4', 'HTTPHeaders': {'transfer-encoding': 'chunked', 'vary': 'Accept-Encoding', 'server': 'AmazonEC2', 'content-type': 'text/xml;charset=UTF-8', 'date': 'Sat, 11 Nov 2017 21:08:30 GMT'}}}\n"
     ]
    }
   ],
   "source": [
    "def create_vpc(p_ec2_client):\n",
    "    \"\"\"\n",
    "    export vpcId=$(aws ec2 create-vpc --cidr-block 10.0.0.0/28 --query 'Vpc.VpcId' --output text)\n",
    "    aws ec2 create-tags --resources $vpcId --tags --tags Key=Name,Value=$name\n",
    "    aws ec2 modify-vpc-attribute --vpc-id $vpcId --enable-dns-support \"{\\\"Value\\\":true}\"\n",
    "    aws ec2 modify-vpc-attribute --vpc-id $vpcId --enable-dns-hostnames \"{\\\"Value\\\":true}\"\n",
    "\n",
    "    \"\"\"\n",
    "    # Find out if a VPC already exists for this range\n",
    "\n",
    "\n",
    "    \n",
    "    \n"
   ]
  },
  {
   "cell_type": "markdown",
   "metadata": {},
   "source": [
    "## Main"
   ]
  },
  {
   "cell_type": "code",
   "execution_count": 34,
   "metadata": {
    "ExecuteTime": {
     "end_time": "2017-11-13T09:18:22.102884Z",
     "start_time": "2017-11-13T09:18:20.689480Z"
    }
   },
   "outputs": [
    {
     "name": "stdout",
     "output_type": "stream",
     "text": [
      "Current region: us-east-1\n",
      "List of available VPC\n",
      "END List of available VPC\n",
      "{u'Reservations': [], 'ResponseMetadata': {'RetryAttempts': 0, 'HTTPStatusCode': 200, 'RequestId': '494933ac-dc64-423c-9a11-5444836f90d1', 'HTTPHeaders': {'transfer-encoding': 'chunked', 'vary': 'Accept-Encoding', 'server': 'AmazonEC2', 'content-type': 'text/xml;charset=UTF-8', 'date': 'Mon, 13 Nov 2017 09:18:21 GMT'}}}\n"
     ]
    }
   ],
   "source": [
    "session = boto3.Session(profile_name = g_profile)\n",
    "\n",
    "ec2 = boto3.resource('ec2')\n",
    "my_region = session.region_name\n",
    "\n",
    "print('Current region: {}'.format(my_region))\n",
    "\n",
    "filters = [{'Name':'tag:Name', 'Values':[g_name]}]\n",
    "\n",
    "print('List of available VPC')\n",
    "list(ec2.vpcs.filter(Filters=filters))\n",
    "print('END List of available VPC')\n",
    "\n",
    "\n",
    "ec2_client = session.client('ec2')\n",
    "\n",
    "# List all instances for this client\n",
    "response = ec2_client.describe_instances()\n",
    "print(response)\n",
    "\n",
    "\n",
    "    "
   ]
  },
  {
   "cell_type": "code",
   "execution_count": 38,
   "metadata": {
    "ExecuteTime": {
     "end_time": "2017-11-13T09:25:26.400462Z",
     "start_time": "2017-11-13T09:25:26.391288Z"
    }
   },
   "outputs": [],
   "source": [
    "?ec2_client.modify_vpc_attribute"
   ]
  },
  {
   "cell_type": "code",
   "execution_count": 45,
   "metadata": {
    "ExecuteTime": {
     "end_time": "2017-11-13T09:36:47.850793Z",
     "start_time": "2017-11-13T09:36:46.385895Z"
    }
   },
   "outputs": [
    {
     "data": {
      "text/plain": [
       "'vpc-7577f10d'"
      ]
     },
     "execution_count": 45,
     "metadata": {},
     "output_type": "execute_result"
    }
   ],
   "source": [
    "my_vpc = ec2_client.create_vpc(CidrBlock = '10.0.0.0/28')\n",
    "\n",
    "setval = [{'Value':True}]\n",
    "my_vpc['Vpc']['VpcId']\n",
    "\n",
    "# list(ec2_boto3.vpcs)"
   ]
  },
  {
   "cell_type": "code",
   "execution_count": 46,
   "metadata": {
    "ExecuteTime": {
     "end_time": "2017-11-13T09:37:03.388160Z",
     "start_time": "2017-11-13T09:37:02.159569Z"
    }
   },
   "outputs": [
    {
     "data": {
      "text/plain": [
       "{'ResponseMetadata': {'HTTPHeaders': {'content-type': 'text/xml;charset=UTF-8',\n",
       "   'date': 'Mon, 13 Nov 2017 09:37:01 GMT',\n",
       "   'server': 'AmazonEC2',\n",
       "   'transfer-encoding': 'chunked',\n",
       "   'vary': 'Accept-Encoding'},\n",
       "  'HTTPStatusCode': 200,\n",
       "  'RequestId': 'cee50031-dab5-47e0-9add-9c5a5ab91f99',\n",
       "  'RetryAttempts': 0}}"
      ]
     },
     "execution_count": 46,
     "metadata": {},
     "output_type": "execute_result"
    }
   ],
   "source": [
    "ec2_client.modify_vpc_attribute(VpcId=my_vpc['Vpc']['VpcId'], EnableDnsSupport={'Value':True})\n"
   ]
  },
  {
   "cell_type": "code",
   "execution_count": 51,
   "metadata": {
    "ExecuteTime": {
     "end_time": "2017-11-13T09:39:16.354671Z",
     "start_time": "2017-11-13T09:39:15.148976Z"
    }
   },
   "outputs": [
    {
     "data": {
      "text/plain": [
       "{'ResponseMetadata': {'HTTPHeaders': {'content-type': 'text/xml;charset=UTF-8',\n",
       "   'date': 'Mon, 13 Nov 2017 09:39:15 GMT',\n",
       "   'server': 'AmazonEC2',\n",
       "   'transfer-encoding': 'chunked',\n",
       "   'vary': 'Accept-Encoding'},\n",
       "  'HTTPStatusCode': 200,\n",
       "  'RequestId': 'c7c5cec6-0606-44e0-bbf3-18ff1e930107',\n",
       "  'RetryAttempts': 0}}"
      ]
     },
     "execution_count": 51,
     "metadata": {},
     "output_type": "execute_result"
    }
   ],
   "source": [
    "ec2_client.modify_vpc_attribute(VpcId=my_vpc['Vpc']['VpcId'], EnableDnsHostnames={'Value':True})"
   ]
  },
  {
   "cell_type": "markdown",
   "metadata": {
    "ExecuteTime": {
     "end_time": "2017-11-13T09:40:26.130702Z",
     "start_time": "2017-11-13T09:40:26.121634Z"
    }
   },
   "source": [
    "### Verify VPC parameters are correct"
   ]
  },
  {
   "cell_type": "code",
   "execution_count": null,
   "metadata": {},
   "outputs": [],
   "source": []
  },
  {
   "cell_type": "code",
   "execution_count": null,
   "metadata": {},
   "outputs": [],
   "source": []
  },
  {
   "cell_type": "code",
   "execution_count": null,
   "metadata": {},
   "outputs": [],
   "source": []
  },
  {
   "cell_type": "markdown",
   "metadata": {},
   "source": [
    "### How to delete a VPC (incomplete)"
   ]
  },
  {
   "cell_type": "code",
   "execution_count": 66,
   "metadata": {
    "ExecuteTime": {
     "end_time": "2017-11-13T09:49:55.838674Z",
     "start_time": "2017-11-13T09:49:55.447549Z"
    }
   },
   "outputs": [
    {
     "name": "stdout",
     "output_type": "stream",
     "text": [
      "List of available VPC\n",
      "END List of available VPC\n",
      "ec2.Vpc(id='vpc-87f5f8e3')\n",
      "    Probably has dependencies, skipping needs more coding here!\n"
     ]
    }
   ],
   "source": [
    "vpc_iterator = ec2.vpcs.all()\n",
    "for x in vpc_iterator:\n",
    "    print(x)\n",
    "    try:\n",
    "        x.delete()\n",
    "    except:\n",
    "        print('    Probably has dependencies, skipping needs more coding here!')\n",
    "\n",
    "# https://gist.github.com/neilswinton/d37787a8d84387c591ff365594bd26ed\n",
    "\n",
    "# Call EC2.Client.describe_vpc_endpoints. Filter on your VPC id.Call EC2.client.delete_vpc_endpoints on each\n",
    "\n",
    "# Call VPC.security_groups. Delete the group unless its group_name attribute is \"main\". The main security group will be deleted via VPC.delete().\n",
    "\n",
    "# Call EC2.Client.describe_vpc_peering_connections. Filter on your VPC id as the requester-vpc-info.vpc-id. (My VPC is a requester. There is also accepter-vpc-info.vpc-id among other filters.) Iterate through the entries keyed by VpcPeeringConnections. Get an instance of the peering connection by instantiating a EC2.ServiceResource.VpcPeeringConnection with the VpcPeeringConnectionId. Call VpcPeeringConnection.delete() to remove the peering connection.\n",
    "\n",
    "# Call vpc.route_tables.all() and iterate through the route tables. For each route table, iterate through its routes using the RouteTable.routes attribute. Delete the routes where route['Origin'] is 'CreateRoute'. I deleted using EC2.Client.delete_route using EC2.RouteTable.id and route['DestinationCidrBlock']. After removing the routes, call EC2.RouteTable.delete() to remove the route table itself. I set up exception handlers for each delete. Not every route table can be deleted, but I haven't cracked the code code. Maybe next week.\n",
    "\n",
    "# Iterate through vpc.network_acls.all(), test the NetworkAcl.is_default attribute and call NetworkAcl.delete for non-default acls.\n",
    "\n",
    "# Iterate through vpc.subnets.all().network_interfaces.all(). Call EC2.NetworkInterface.delete() on each.\n",
    "\n",
    "# Iterate through vpc.internet_gateways.all(). Call EC2.InternetGateway.delete() on each.\n",
    "\n",
    "# Call vpc.delete()\n",
    "        "
   ]
  },
  {
   "cell_type": "code",
   "execution_count": 62,
   "metadata": {
    "ExecuteTime": {
     "end_time": "2017-11-13T09:46:19.628878Z",
     "start_time": "2017-11-13T09:46:19.625260Z"
    }
   },
   "outputs": [],
   "source": [
    "?ec2.vpcs.all"
   ]
  },
  {
   "cell_type": "code",
   "execution_count": null,
   "metadata": {},
   "outputs": [],
   "source": []
  }
 ],
 "metadata": {
  "kernelspec": {
   "display_name": "Python 2",
   "language": "python",
   "name": "python2"
  },
  "language_info": {
   "codemirror_mode": {
    "name": "ipython",
    "version": 2
   },
   "file_extension": ".py",
   "mimetype": "text/x-python",
   "name": "python",
   "nbconvert_exporter": "python",
   "pygments_lexer": "ipython2",
   "version": "2.7.14"
  },
  "toc": {
   "nav_menu": {},
   "number_sections": true,
   "sideBar": true,
   "skip_h1_title": false,
   "toc_cell": false,
   "toc_position": {},
   "toc_section_display": "block",
   "toc_window_display": true
  },
  "varInspector": {
   "cols": {
    "lenName": 16,
    "lenType": 16,
    "lenVar": 40
   },
   "kernels_config": {
    "python": {
     "delete_cmd_postfix": "",
     "delete_cmd_prefix": "del ",
     "library": "var_list.py",
     "varRefreshCmd": "print(var_dic_list())"
    },
    "r": {
     "delete_cmd_postfix": ") ",
     "delete_cmd_prefix": "rm(",
     "library": "var_list.r",
     "varRefreshCmd": "cat(var_dic_list()) "
    }
   },
   "types_to_exclude": [
    "module",
    "function",
    "builtin_function_or_method",
    "instance",
    "_Feature"
   ],
   "window_display": false
  }
 },
 "nbformat": 4,
 "nbformat_minor": 2
}
