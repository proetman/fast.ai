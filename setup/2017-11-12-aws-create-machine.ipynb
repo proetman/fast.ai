{
 "cells": [
  {
   "cell_type": "markdown",
   "metadata": {},
   "source": [
    "# Create AWS machine"
   ]
  },
  {
   "cell_type": "markdown",
   "metadata": {},
   "source": [
    "## Setup"
   ]
  },
  {
   "cell_type": "markdown",
   "metadata": {},
   "source": [
    "### Other options"
   ]
  },
  {
   "cell_type": "markdown",
   "metadata": {},
   "source": [
    "Other instance types available\n",
    "```\n",
    "while testing the setup, use a free teir!\n",
    "export instanceType=\"t2.micro\"  # cannot do spot rates with this\n",
    "\n",
    "g_instanceType=\"m4.large\"    # 4 c per hour\n",
    "g_instanceType=\"m4.xlarge\"   # 7 c per hour\n",
    "g_instanceType=\"p2.xlarge\"   # 23 c per hour\n",
    "```\n",
    "\n",
    "Other Regions available\n",
    "```\n",
    "g_profile = 'eu'\n",
    "g_profile = 'us-east'\n",
    "g_profile = 'au'\n",
    "\n",
    "\n",
    "default region (leave null)\n",
    "ap-southeast-2   # Sydney\n",
    "```\n",
    "\n",
    "AMI\n",
    "```\n",
    "ami = 'ami-bc508adc'   # Oregon   \"us-west-2\" \n",
    "ami = 'ami-b43d1ec7'   # Ireland  \"eu-west-1\"\n",
    "ami = 'ami-31ecfb26'   # Virginia \"us-east-1\" \n",
    "```\n"
   ]
  },
  {
   "cell_type": "markdown",
   "metadata": {},
   "source": [
    "### Constants and Env variables"
   ]
  },
  {
   "cell_type": "code",
   "execution_count": 93,
   "metadata": {
    "ExecuteTime": {
     "end_time": "2017-11-25T09:42:56.629750Z",
     "start_time": "2017-11-25T09:42:56.626185Z"
    }
   },
   "outputs": [],
   "source": [
    "g_profile = 'us-east'            # profiles: au | us-east | eu\n",
    "g_instance_type = 'm4.large'\n",
    "ami = 'ami-31ecfb26'             # only in us-east-1, virginia"
   ]
  },
  {
   "cell_type": "code",
   "execution_count": 94,
   "metadata": {
    "ExecuteTime": {
     "end_time": "2017-11-25T09:42:56.652100Z",
     "start_time": "2017-11-25T09:42:56.647824Z"
    },
    "code_folding": [],
    "run_control": {
     "marked": true
    }
   },
   "outputs": [],
   "source": [
    "# Fixed constansts\n",
    "g_name = 'fast-ai'\n",
    "g_cidr = '0.0.0/0'\n",
    "g_cidr_block = '10.0.0.0/28'"
   ]
  },
  {
   "cell_type": "code",
   "execution_count": 188,
   "metadata": {
    "ExecuteTime": {
     "end_time": "2017-11-27T10:35:32.893178Z",
     "start_time": "2017-11-27T10:35:32.886482Z"
    },
    "code_folding": [],
    "run_control": {
     "marked": true
    }
   },
   "outputs": [],
   "source": [
    "# Import libraries\n",
    "import sys\n",
    "import boto3\n",
    "from botocore.exceptions import ClientError"
   ]
  },
  {
   "cell_type": "markdown",
   "metadata": {},
   "source": [
    "## Main"
   ]
  },
  {
   "cell_type": "markdown",
   "metadata": {},
   "source": [
    "###  Create Functions"
   ]
  },
  {
   "cell_type": "code",
   "execution_count": 114,
   "metadata": {
    "ExecuteTime": {
     "end_time": "2017-11-25T09:57:30.629630Z",
     "start_time": "2017-11-25T09:57:30.607793Z"
    }
   },
   "outputs": [],
   "source": [
    "# Functions\n",
    "\n",
    "# Doc: https://gist.github.com/iMilnb/0ff71b44026cfd7894f8\n",
    "\n",
    "# ---------------------------------------------------------------------------------\n",
    "# \n",
    "#                      Create VPC\n",
    "# \n",
    "# ---------------------------------------------------------------------------------\n",
    "\n",
    "def create_vpc(p_ec2_resource, p_ec2_client):\n",
    "    \"\"\"\n",
    "    Create a Virtual Private Channel (VPC)\n",
    "    Add a tag, even though I cannot see the tag later.... <sigh>\n",
    "    Enable DNS\n",
    "    Enable Hostname support\n",
    "    Return the ID.\n",
    "    \"\"\"\n",
    "    \n",
    "    l_vpc_id = p_ec2_resource.create_vpc(CidrBlock=g_cidr_block)\n",
    "    l_vpc_id.create_tags(Tags=[{\"Key\": \"VPCName\", \"Value\": g_name}])\n",
    "    print('----------')\n",
    "    print(l_vpc_id.id)\n",
    "    # int(l_vpc_id['id'])\n",
    "    print('----------')\n",
    "    ec2_client.modify_vpc_attribute(VpcId=l_vpc_id.id, EnableDnsSupport={'Value': True})\n",
    "    ec2_client.modify_vpc_attribute(VpcId=l_vpc_id.id, EnableDnsHostnames={'Value': True})\n",
    "    \n",
    "    print('Creating...please wait')\n",
    "    l_vpc_id.wait_until_available()\n",
    "    print('Complete')\n",
    "    print(l_vpc_id)\n",
    "    \n",
    "    return l_vpc_id\n",
    "        \n",
    "\n",
    "# ---------------------------------------------------------------------------------\n",
    "# \n",
    "#                      Create Internet Gateway\n",
    "# \n",
    "# ---------------------------------------------------------------------------------\n",
    "\n",
    "def create_gateway(p_ec2_resource, p_vpc_id):\n",
    "    \"\"\"\n",
    "    Create an Internet Gateway\n",
    "    Add a tag, still do not understand tags <bigger sigh>\n",
    "    return ID\n",
    "    \"\"\"\n",
    "    \n",
    "    l_ig = p_ec2_resource.create_internet_gateway()\n",
    "    print('my ig = {}'.format(l_ig))\n",
    "    l_ig.attach_to_vpc(VpcId=p_vpc_id)\n",
    "    return l_ig\n",
    "    \n",
    "# ec2_client.modify_vpc_attribute(VpcId=my_vpc['Vpc']['VpcId'], EnableDnsSupport={'Value':True})\n",
    "# ec2_client.modify_vpc_attribute(VpcId=my_vpc['Vpc']['VpcId'], EnableDnsHostnames={'Value':True})    \n",
    "\n",
    "# Create an Internet Gateway\n",
    "# export internetGatewayId=$(aws ec2 create-internet-gateway --query 'InternetGateway.InternetGatewayId' \n",
    "#                              --output text)\n",
    "# aws ec2 create-tags --resources $internetGatewayId --tags --tags Key=Name,Value=$name-gateway\n",
    "# aws ec2 attach-internet-gateway --internet-gateway-id $internetGatewayId --vpc-id $vpcId\n",
    "    \n",
    "    "
   ]
  },
  {
   "cell_type": "code",
   "execution_count": 132,
   "metadata": {
    "ExecuteTime": {
     "end_time": "2017-11-27T09:50:58.203240Z",
     "start_time": "2017-11-27T09:50:56.407743Z"
    },
    "scrolled": true
   },
   "outputs": [
    {
     "name": "stdout",
     "output_type": "stream",
     "text": [
      "Current region: us-east-1\n",
      "start\n",
      "{u'Tags': [], u'Attachments': [], u'InternetGatewayId': 'igw-47294c3e'}\n",
      "igw-47294c3e\n",
      "{u'Tags': [], u'Attachments': [], u'InternetGatewayId': 'igw-6f214416'}\n",
      "igw-6f214416\n",
      "{u'Tags': [], u'Attachments': [], u'InternetGatewayId': 'igw-88294cf1'}\n",
      "igw-88294cf1\n",
      "{u'Tags': [], u'Attachments': [], u'InternetGatewayId': 'igw-3b2a4f42'}\n",
      "igw-3b2a4f42\n",
      "{u'Tags': [], u'Attachments': [{u'State': 'available', u'VpcId': 'vpc-f58d378d'}], u'InternetGatewayId': 'igw-8f4bc9f6'}\n",
      "igw-8f4bc9f6\n",
      "end\n"
     ]
    },
    {
     "ename": "AttributeError",
     "evalue": "'dict' object has no attribute 'meta'",
     "output_type": "error",
     "traceback": [
      "\u001b[0;31m\u001b[0m",
      "\u001b[0;31mAttributeError\u001b[0mTraceback (most recent call last)",
      "\u001b[0;32m<ipython-input-132-ba623f4a0710>\u001b[0m in \u001b[0;36m<module>\u001b[0;34m()\u001b[0m\n\u001b[1;32m     26\u001b[0m \u001b[0;32mfor\u001b[0m \u001b[0mr\u001b[0m \u001b[0;32min\u001b[0m \u001b[0mec2_resource\u001b[0m\u001b[0;34m.\u001b[0m\u001b[0mmeta\u001b[0m\u001b[0;34m.\u001b[0m\u001b[0mclient\u001b[0m\u001b[0;34m.\u001b[0m\u001b[0mdescribe_vpcs\u001b[0m\u001b[0;34m(\u001b[0m\u001b[0;34m)\u001b[0m\u001b[0;34m[\u001b[0m \u001b[0;34m'Vpcs'\u001b[0m\u001b[0;34m]\u001b[0m\u001b[0;34m:\u001b[0m\u001b[0;34m\u001b[0m\u001b[0m\n\u001b[1;32m     27\u001b[0m     \u001b[0ml_vpc_id\u001b[0m \u001b[0;34m=\u001b[0m \u001b[0mr\u001b[0m\u001b[0;34m[\u001b[0m\u001b[0;34m'VpcId'\u001b[0m\u001b[0;34m]\u001b[0m\u001b[0;34m\u001b[0m\u001b[0m\n\u001b[0;32m---> 28\u001b[0;31m     \u001b[0;32mfor\u001b[0m \u001b[0ms\u001b[0m \u001b[0;32min\u001b[0m \u001b[0mr\u001b[0m\u001b[0;34m.\u001b[0m\u001b[0mmeta\u001b[0m\u001b[0;34m.\u001b[0m\u001b[0mclient\u001b[0m\u001b[0;34m.\u001b[0m\u001b[0mdescribe_internet_gateways\u001b[0m\u001b[0;34m(\u001b[0m\u001b[0;34m)\u001b[0m\u001b[0;34m[\u001b[0m\u001b[0;34m'InternetGateways'\u001b[0m\u001b[0;34m]\u001b[0m\u001b[0;34m:\u001b[0m\u001b[0;34m\u001b[0m\u001b[0m\n\u001b[0m\u001b[1;32m     29\u001b[0m         \u001b[0;32mprint\u001b[0m\u001b[0;34m(\u001b[0m\u001b[0ms\u001b[0m\u001b[0;34m)\u001b[0m\u001b[0;34m\u001b[0m\u001b[0m\n\u001b[1;32m     30\u001b[0m \u001b[0;34m\u001b[0m\u001b[0m\n",
      "\u001b[0;31mAttributeError\u001b[0m: 'dict' object has no attribute 'meta'"
     ]
    }
   ],
   "source": [
    "l_session = boto3.Session(profile_name = g_profile)\n",
    "l_region = l_session.region_name\n",
    "\n",
    "print('Current region: {}'.format(l_region))\n",
    "\n",
    "ec2_resource = l_session.resource('ec2')   \n",
    "ec2_client   = l_session.client('ec2')     # lowest level\n",
    "\n",
    "\n",
    "# my_vpc_id = create_vpc(ec2_resource, ec2_client)\n",
    "# print('My VPC ID: {}, type = {}'.format(my_vpc_id.id, type(my_vpc_id.id)))\n",
    "\n",
    "\n",
    "# my_gateway_id = create_gateway(ec2_resource, my_vpc_id.id)\n",
    "# print('My Internet Gateway ID: {}'.format(my_gateway_id))\n",
    "\n",
    "print('start')\n",
    "for r in ec2_resource.meta.client.describe_internet_gateways()['InternetGateways']:\n",
    "    print(r)\n",
    "    l_attachment = r['Attachments']\n",
    "    l_tags = r['Tags']\n",
    "    l_internet_gateway_id = r['InternetGatewayId']\n",
    "    print('{}'.format(l_internet_gateway_id))\n",
    "print('end')\n",
    "\n",
    "for r in ec2_resource.meta.client.describe_vpcs()[ 'Vpcs']:\n",
    "    l_vpc_id = r['VpcId']\n",
    "    for s in r.meta.client.describe_internet_gateways()['InternetGateways']:\n",
    "        print(s)\n",
    "\n",
    "        # l_vpc_id\n",
    "\n",
    "\n",
    "# myfilters = [{'Name': 'tag:Name', 'Values':['fast-ai']}]\n",
    "# myfilters = [{'Name': 'VpcId', 'Values':['*']}]\n",
    "# print(myfilters)\n",
    "# l_vpc = list(ec2_resource.vpcs.filter(Filters=myfilters))\n",
    "# print('len l_vpc = {}'.format(len(l_vpc)))\n",
    "# for vpc in l_vpc:\n",
    "#     response = client.describe_vpcs(VpcIds=[vpc.id,])\n",
    "#     print(json.dumps(response, sort_keys=True, indent=4))\n",
    "# print(l_vpc)\n",
    "\n",
    "# vpc_id = ec2_resource.Vpc(vpc)\n",
    "# vpc_id.id\n",
    "# print('vpc id = {}'.format(vpc_id))\n",
    "# print(dir(ec2_resource))\n",
    "# ec2_resource.Vpc.\n",
    "\n",
    "\n",
    "\n",
    "# ec2_resource.create_vpc\n",
    "# ec2_client.create_vpc\n",
    "\n",
    "# reate_vpc(ec2_resource)\n",
    "\n",
    "# List all instances for this client\n",
    "# response = ec2_client.describe_instances()\n",
    "# print(response)\n",
    "\n",
    "\n",
    "    "
   ]
  },
  {
   "cell_type": "markdown",
   "metadata": {},
   "source": [
    "## Cleanup"
   ]
  },
  {
   "cell_type": "markdown",
   "metadata": {},
   "source": [
    "### functions"
   ]
  },
  {
   "cell_type": "code",
   "execution_count": 215,
   "metadata": {
    "ExecuteTime": {
     "end_time": "2017-11-27T10:52:33.939395Z",
     "start_time": "2017-11-27T10:52:33.863233Z"
    },
    "code_folding": [],
    "run_control": {
     "marked": false
    }
   },
   "outputs": [],
   "source": [
    "# Functions\n",
    "\n",
    "# Doc: https://gist.github.com/iMilnb/0ff71b44026cfd7894f8\n",
    "\n",
    "# ---------------------------------------------------------------------------------\n",
    "# \n",
    "#                      Remove VPC\n",
    "# \n",
    "# ---------------------------------------------------------------------------------\n",
    "\n",
    "\n",
    "def remove_all_vpc(p_ec2_resource):\n",
    "    \"\"\"\n",
    "    Remove all VPC\n",
    "    except for default\n",
    "    \n",
    "    This will start failing where there are dependencies....will have to fix that later!\n",
    "    \"\"\"\n",
    "\n",
    "    for r in p_ec2_resource.meta.client.describe_vpcs()[ 'Vpcs']:\n",
    "        l_vpc_default = r['IsDefault']\n",
    "        l_vpc_id = r['VpcId']\n",
    "        if curr_default:\n",
    "            print('Default vpd id {}, not removing'.format(l_vpc_id))\n",
    "        else:\n",
    "            print('\\nprep for delete of {}'.format(curr_id))\n",
    "            l_vpc = ec2_resource.Vpc(id = l_vpc_id)\n",
    "\n",
    "            if l_vpc.tags is not None:\n",
    "                for tag in l_vpc.tags:\n",
    "                    print('Display TAG: {} {}'.format(tag['Key'], tag['Value']))\n",
    "                    \n",
    "            if remove_vpc_internet_gateway(p_ec2_resource, l_vpc):\n",
    "                l_vpc.delete()\n",
    "            else:\n",
    "                print('Failed to remove VPC Internet Gateways, not removing VPC')\n",
    "            \n",
    "# ---------------------------------------------------------------------------------\n",
    "# \n",
    "#                      Remove Internet Gateway\n",
    "# \n",
    "# ---------------------------------------------------------------------------------\n",
    "\n",
    "\n",
    "def remove_vpc_internet_gateway(p_ec2_resource, p_vpc_id):     \n",
    "    \"\"\"\n",
    "    Remove all Internet Gateways...\n",
    "    dunno about the default, is there one?\n",
    "    Bugger it, just remove em all....\n",
    "    \"\"\"\n",
    "    \n",
    "    def detach_internet_gateway(p_ig, p_ig_id):\n",
    "        \"\"\"\n",
    "        Detach the Internet Gateway from the VPC\n",
    "        If it fails with Client Error, it should be OK\n",
    "            verify error is \n",
    "               'ClientError: An error occurred (Gateway.NotAttached) when calling the \n",
    "               DetachInternetGateway operation: resource igw-8f4bc9f6 is not \n",
    "               attached to network igw-8f4bc9f6'\n",
    "        \"\"\"\n",
    "        command_status = False\n",
    "        \n",
    "        try:\n",
    "            l_response = p_ig.detach_from_vpc(VpcId = p_ig_id)\n",
    "            \n",
    "            print(l_response)\n",
    "            command_status = True\n",
    "            \n",
    "        except ClientError as e:\n",
    "            if e.response['Error']['Code'] == 'Gateway.NotAttached':\n",
    "                # This error is ok.\n",
    "                command_status = True\n",
    "\n",
    "        \n",
    "        return command_status\n",
    "    \n",
    "    def delete_internet_gateway(p_ig, p_ig_id):\n",
    "        \"\"\"\n",
    "        delete the Internet Gateway from the VPC\n",
    "        If it fails with Client Error, NOT OK\n",
    "            verify error is \n",
    "               'ClientError: An error occurred (DependencyViolation) when calling \n",
    "               the DeleteInternetGateway operation: The internetGateway 'igw-8f4bc9f6' \n",
    "               has dependencies and cannot be deleted.\n",
    "\n",
    "        \"\"\"\n",
    "        command_status = False\n",
    "        \n",
    "        try:\n",
    "            l_response = p_ig.delete()\n",
    "            print(l_response)\n",
    "            command_status = True\n",
    "        except ClientError as e:\n",
    "            if e.response['Error']['Code'] == 'DependencyViolation':\n",
    "                # This error is NOT ok.\n",
    "                print('------------------------------')\n",
    "                print(e)\n",
    "                print(e.response['Error']['Code'])\n",
    "                print('------------------------------')\n",
    "                # print(\"Client Error({0}): {1}\".format(e.errno,strerror))\n",
    "            else:\n",
    "                print('------------------------------')\n",
    "                print('------------------------------')\n",
    "                print('------------------------------')\n",
    "                print(e)\n",
    "                print('------------------------------')\n",
    "                print('------------------------------')\n",
    "                print('------------------------------')\n",
    "        \n",
    "        return command_status    \n",
    "    \n",
    "    for ig in p_ec2_resource.meta.client.describe_internet_gateways()['InternetGateways']:\n",
    "        l_ig_id = ig['InternetGatewayId']\n",
    "        l_ig = p_ec2_resource.InternetGateway(l_ig_id)\n",
    "\n",
    "        print('Internet gateway = {}'.format(l_ig_id))\n",
    "\n",
    "        if not detach_internet_gateway(l_ig, l_ig_id):\n",
    "            return False\n",
    "          \n",
    "        if not delete_internet_gateway(l_ig, l_ig_id):\n",
    "            return False\n",
    "        \n",
    "        # l_response = l_ig.delete()\n",
    "        # print(l_response)\n",
    "        # print(l_response['ResponseMetadata'])\n",
    "        \n",
    "        \n",
    "    \n",
    "\n",
    "# for r in ec2_resource.meta.client.describe_vpcs()[ 'Vpcs']:\n",
    "#     l_vpc_id = r['VpcId']\n",
    "#     for s in r.meta.client.describe_internet_gateways()['InternetGateways']:\n",
    "#         print(s)    \n"
   ]
  },
  {
   "cell_type": "code",
   "execution_count": 216,
   "metadata": {
    "ExecuteTime": {
     "end_time": "2017-11-27T10:52:40.750125Z",
     "start_time": "2017-11-27T10:52:34.743021Z"
    },
    "code_folding": [],
    "run_control": {
     "marked": true
    }
   },
   "outputs": [
    {
     "name": "stdout",
     "output_type": "stream",
     "text": [
      "\n",
      "prep for delete of vpc-18f06560\n",
      "Internet gateway = igw-8f4bc9f6\n",
      "------------------------------\n",
      "An error occurred (DependencyViolation) when calling the DeleteInternetGateway operation: The internetGateway 'igw-8f4bc9f6' has dependencies and cannot be deleted.\n",
      "DependencyViolation\n",
      "------------------------------\n",
      "Failed to remove VPC Internet Gateways, not removing VPC\n",
      "\n",
      "prep for delete of vpc-18f06560\n",
      "Display TAG: VPCName fast-ai\n",
      "Internet gateway = igw-8f4bc9f6\n",
      "------------------------------\n",
      "An error occurred (DependencyViolation) when calling the DeleteInternetGateway operation: The internetGateway 'igw-8f4bc9f6' has dependencies and cannot be deleted.\n",
      "DependencyViolation\n",
      "------------------------------\n",
      "Failed to remove VPC Internet Gateways, not removing VPC\n"
     ]
    }
   ],
   "source": [
    "# Execute cleanup Routines\n",
    "\n",
    "# last cleanup, VPC\n",
    "remove_all_vpc(ec2_resource)\n",
    "\n",
    "# finished cleanup! Yay.\n"
   ]
  },
  {
   "cell_type": "code",
   "execution_count": null,
   "metadata": {},
   "outputs": [],
   "source": []
  },
  {
   "cell_type": "code",
   "execution_count": null,
   "metadata": {},
   "outputs": [],
   "source": []
  },
  {
   "cell_type": "markdown",
   "metadata": {},
   "source": [
    "### Verify VPC parameters are correct"
   ]
  },
  {
   "cell_type": "code",
   "execution_count": null,
   "metadata": {},
   "outputs": [],
   "source": []
  },
  {
   "cell_type": "code",
   "execution_count": null,
   "metadata": {},
   "outputs": [],
   "source": []
  },
  {
   "cell_type": "code",
   "execution_count": null,
   "metadata": {},
   "outputs": [],
   "source": []
  },
  {
   "cell_type": "markdown",
   "metadata": {},
   "source": [
    "### How to delete a VPC (incomplete)"
   ]
  },
  {
   "cell_type": "markdown",
   "metadata": {
    "ExecuteTime": {
     "end_time": "2017-11-27T10:10:10.614988Z",
     "start_time": "2017-11-27T10:10:10.592584Z"
    }
   },
   "source": [
    "vpc_iterator = ec2.vpcs.all()\n",
    "for x in vpc_iterator:\n",
    "    print(x)\n",
    "    try:\n",
    "        x.delete()\n",
    "    except:\n",
    "        print('    Probably has dependencies, skipping needs more coding here!')\n",
    "\n",
    "```\n",
    "# https://gist.github.com/neilswinton/d37787a8d84387c591ff365594bd26ed\n",
    "\n",
    "# Call EC2.Client.describe_vpc_endpoints. Filter on your VPC id.Call EC2.client.delete_vpc_endpoints on each\n",
    "\n",
    "# Call VPC.security_groups. Delete the group unless its group_name attribute is \"main\". The main security group will be deleted via VPC.delete().\n",
    "\n",
    "# Call EC2.Client.describe_vpc_peering_connections. Filter on your VPC id as the requester-vpc-info.vpc-id. (My VPC is a requester. There is also accepter-vpc-info.vpc-id among other filters.) Iterate through the entries keyed by VpcPeeringConnections. Get an instance of the peering connection by instantiating a EC2.ServiceResource.VpcPeeringConnection with the VpcPeeringConnectionId. Call VpcPeeringConnection.delete() to remove the peering connection.\n",
    "\n",
    "# Call vpc.route_tables.all() and iterate through the route tables. For each route table, iterate through its routes using the RouteTable.routes attribute. Delete the routes where route['Origin'] is 'CreateRoute'. I deleted using EC2.Client.delete_route using EC2.RouteTable.id and route['DestinationCidrBlock']. After removing the routes, call EC2.RouteTable.delete() to remove the route table itself. I set up exception handlers for each delete. Not every route table can be deleted, but I haven't cracked the code code. Maybe next week.\n",
    "\n",
    "# Iterate through vpc.network_acls.all(), test the NetworkAcl.is_default attribute and call NetworkAcl.delete for non-default acls.\n",
    "\n",
    "# Iterate through vpc.subnets.all().network_interfaces.all(). Call EC2.NetworkInterface.delete() on each.\n",
    "\n",
    "# Iterate through vpc.internet_gateways.all(). Call EC2.InternetGateway.delete() on each.\n",
    "\n",
    "# Call vpc.delete()\n",
    "```        "
   ]
  },
  {
   "cell_type": "code",
   "execution_count": null,
   "metadata": {},
   "outputs": [],
   "source": []
  },
  {
   "cell_type": "markdown",
   "metadata": {},
   "source": [
    "Stuff left to do:\n",
    "\n",
    "```\n",
    "\n",
    "### # Create a Virtual Private Cloud\n",
    "### export vpcId=$(aws ec2 create-vpc --cidr-block 10.0.0.0/28 --query 'Vpc.VpcId' --output text)\n",
    "### aws ec2 create-tags --resources $vpcId --tags --tags Key=Name,Value=$name\n",
    "### aws ec2 modify-vpc-attribute --vpc-id $vpcId --enable-dns-support \"{\\\"Value\\\":true}\"\n",
    "### aws ec2 modify-vpc-attribute --vpc-id $vpcId --enable-dns-hostnames \"{\\\"Value\\\":true}\"\n",
    "\n",
    "\n",
    "\n",
    "\n",
    "### # Create an Internet Gateway\n",
    "### export internetGatewayId=$(aws ec2 create-internet-gateway --query 'InternetGateway.InternetGatewayId' --output text)\n",
    "### aws ec2 create-tags --resources $internetGatewayId --tags --tags Key=Name,Value=$name-gateway\n",
    "### aws ec2 attach-internet-gateway --internet-gateway-id $internetGatewayId --vpc-id $vpcId\n",
    "\n",
    "export subnetId=$(aws ec2 create-subnet --vpc-id $vpcId --cidr-block 10.0.0.0/28 --query 'Subnet.SubnetId' --output text)\n",
    "aws ec2 create-tags --resources $subnetId --tags --tags Key=Name,Value=$name-subnet\n",
    "\n",
    "export routeTableId=$(aws ec2 create-route-table --vpc-id $vpcId --query 'RouteTable.RouteTableId' --output text)\n",
    "aws ec2 create-tags --resources $routeTableId --tags --tags Key=Name,Value=$name-route-table\n",
    "export routeTableAssoc=$(aws ec2 associate-route-table --route-table-id $routeTableId --subnet-id $subnetId --output text)\n",
    "aws ec2 create-route --route-table-id $routeTableId --destination-cidr-block 0.0.0.0/0 --gateway-id $internetGatewayId\n",
    "\n",
    "# Setup Security Groups\n",
    "export securityGroupId=$(aws ec2 create-security-group --group-name $name-security-group --description \"SG for fast.ai machine\" --vpc-id $vpcId --query 'GroupId' --output text)\n",
    "# ssh\n",
    "aws ec2 authorize-security-group-ingress --group-id $securityGroupId --protocol tcp --port 22 --cidr $cidr\n",
    "# jupyter notebook\n",
    "aws ec2 authorize-security-group-ingress --group-id $securityGroupId --protocol tcp --port 8888-8898 --cidr $cidr\n",
    "\n",
    "if [ ! -d ~/.ssh ]\n",
    "then\n",
    "        mkdir ~/.ssh\n",
    "fi\n",
    "\n",
    "if [ ! -f ~/.ssh/aws-key-$name.pem ]\n",
    "then\n",
    "        aws ec2 create-key-pair --key-name aws-key-$name --query 'KeyMaterial' --output text > ~/.ssh/aws-key-$name.pem\n",
    "        chmod 400 ~/.ssh/aws-key-$name.pem\n",
    "fi\n",
    "# ----------------------------------------------------------------------- #\n",
    "#                                                                         #\n",
    "#                     Create Instance                                     #\n",
    "#                                                                         #\n",
    "# ----------------------------------------------------------------------- #\n",
    "\n",
    "command=\"aws ec2 \\\n",
    "    run-instances \\\n",
    "    --image-id $ami \\\n",
    "    --count 1 \\\n",
    "    --instance-type $instanceType \\\n",
    "    --key-name aws-key-$name \\\n",
    "    --security-group-ids $securityGroupId \\\n",
    "    --subnet-id $subnetId \\\n",
    "    --associate-public-ip-address \\\n",
    "    --block-device-mapping \"[ { \\\"DeviceName\\\": \\\"/dev/sda1\\\", \\\"Ebs\\\": { \\\"VolumeSize\\\": 128, \\\"VolumeType\\\": \\\"gp2\\\" } } ]\" \\\n",
    "    --query 'Instances[0].InstanceId' \\\n",
    "    --output text)\n",
    "\"\n",
    "\n",
    "export instanceId=$(aws ec2 run-instances --image-id $ami --count 1 --instance-type $instanceType --key-name aws-key-$name --security-group-ids $securityGroupId --subnet-id $subnetId --associate-public-ip-address --block-device-mapping \"[ { \\\"DeviceName\\\": \\\"/dev/sda1\\\", \\\"Ebs\\\": { \\\"VolumeSize\\\": 128, \\\"VolumeType\\\": \\\"gp2\\\" } } ]\" --query 'Instances[0].InstanceId' --output text)\n",
    "aws ec2 create-tags --resources $instanceId --tags --tags Key=Name,Value=$name-gpu-machine\n",
    "export allocAddr=$(aws ec2 allocate-address --domain vpc --query 'AllocationId' --output text)\n",
    "\n",
    "echo Waiting for instance start...\n",
    "aws ec2 wait instance-running --instance-ids $instanceId\n",
    "sleep 10 # wait for ssh service to start running too\n",
    "export assocId=$(aws ec2 associate-address --instance-id $instanceId --allocation-id $allocAddr --query 'AssociationId' --output text)\n",
    "export instanceUrl=$(aws ec2 describe-instances --instance-ids $instanceId --query 'Reservations[0].Instances[0].PublicDnsName' --output text)\n",
    "#export ebsVolume=$(aws ec2 describe-instance-attribute --instance-id $instanceId --attribute  blockDeviceMapping  --query BlockDeviceMappings[0].Ebs.VolumeId --output text)\n",
    "\n",
    "# reboot instance, because I was getting \"Failed to initialize NVML: Driver/library version mismatch\"\n",
    "# error when running the nvidia-smi command\n",
    "# see also http://forums.fast.ai/t/no-cuda-capable-device-is-detected/168/13\n",
    "aws ec2 reboot-instances --instance-ids $instanceId\n",
    "\n",
    "\n",
    "\n",
    "# save commands to file\n",
    "echo \\# Connect to your instance: > $name-commands.txt # overwrite existing file\n",
    "echo ssh -i ~/.ssh/aws-key-$name.pem ubuntu@$instanceUrl >> $name-commands.txt\n",
    "echo \\# Stop your instance: : >> $name-commands.txt\n",
    "echo aws ec2 stop-instances --instance-ids $instanceId  >> $name-commands.txt\n",
    "echo \\# Start your instance: >> $name-commands.txt\n",
    "echo aws ec2 start-instances --instance-ids $instanceId  >> $name-commands.txt\n",
    "echo \\# Reboot your instance: >> $name-commands.txt\n",
    "echo aws ec2 reboot-instances --instance-ids $instanceId  >> $name-commands.txt\n",
    "echo \"\"\n",
    "# export vars to be sure\n",
    "echo export instanceId=$instanceId >> $name-commands.txt\n",
    "echo export subnetId=$subnetId >> $name-commands.txt\n",
    "echo export securityGroupId=$securityGroupId >> $name-commands.txt\n",
    "echo export instanceUrl=$instanceUrl >> $name-commands.txt\n",
    "echo export routeTableId=$routeTableId >> $name-commands.txt\n",
    "echo export name=$name >> $name-commands.txt\n",
    "echo export vpcId=$vpcId >> $name-commands.txt\n",
    "echo export internetGatewayId=$internetGatewayId >> $name-commands.txt\n",
    "echo export subnetId=$subnetId >> $name-commands.txt\n",
    "echo export allocAddr=$allocAddr >> $name-commands.txt\n",
    "echo export assocId=$assocId >> $name-commands.txt\n",
    "echo export routeTableAssoc=$routeTableAssoc >> $name-commands.txt\n",
    "\n",
    "# save delete commands for cleanup\n",
    "echo \"#!/bin/bash\" > $name-remove.sh # overwrite existing file\n",
    "echo aws ec2 disassociate-address --association-id $assocId >> $name-remove.sh\n",
    "echo aws ec2 release-address --allocation-id $allocAddr >> $name-remove.sh\n",
    "\n",
    "# save delete commands for cleanup\n",
    "echo \"#!/bin/bash\" > $name-remove.sh # overwrite existing file\n",
    "echo aws ec2 disassociate-address --association-id $assocId >> $name-remove.sh\n",
    "echo aws ec2 release-address --allocation-id $allocAddr >> $name-remove.sh\n",
    "\n",
    "# volume gets deleted with the instance automatically\n",
    "echo aws ec2 terminate-instances --instance-ids $instanceId >> $name-remove.sh\n",
    "echo aws ec2 wait instance-terminated --instance-ids $instanceId >> $name-remove.sh\n",
    "echo aws ec2 delete-security-group --group-id $securityGroupId >> $name-remove.sh\n",
    "\n",
    "echo aws ec2 disassociate-route-table --association-id $routeTableAssoc >> $name-remove.sh\n",
    "echo aws ec2 delete-route-table --route-table-id $routeTableId >> $name-remove.sh\n",
    "\n",
    "echo aws ec2 detach-internet-gateway --internet-gateway-id $internetGatewayId --vpc-id $vpcId >> $name-remove.sh\n",
    "echo aws ec2 delete-internet-gateway --internet-gateway-id $internetGatewayId >> $name-remove.sh\n",
    "echo aws ec2 delete-subnet --subnet-id $subnetId >> $name-remove.sh\n",
    "\n",
    "echo aws ec2 delete-vpc --vpc-id $vpcId >> $name-remove.sh\n",
    "echo echo If you want to delete the key-pair, please do it manually. >> $name-remove.sh\n",
    "\n",
    "chmod +x $name-remove.sh\n",
    "\n",
    "echo All done. Find all you need to connect in the $name-commands.txt file and to remove the stack call $name-remove.sh\n",
    "echo Connect to your instance: ssh -i ~/.ssh/aws-key-$name.pem ubuntu@$instanceUrl\n",
    "\n",
    "\n",
    "```\n"
   ]
  },
  {
   "cell_type": "code",
   "execution_count": null,
   "metadata": {},
   "outputs": [],
   "source": []
  }
 ],
 "metadata": {
  "kernelspec": {
   "display_name": "Python 2",
   "language": "python",
   "name": "python2"
  },
  "language_info": {
   "codemirror_mode": {
    "name": "ipython",
    "version": 2
   },
   "file_extension": ".py",
   "mimetype": "text/x-python",
   "name": "python",
   "nbconvert_exporter": "python",
   "pygments_lexer": "ipython2",
   "version": "2.7.14"
  },
  "toc": {
   "nav_menu": {},
   "number_sections": true,
   "sideBar": true,
   "skip_h1_title": false,
   "toc_cell": false,
   "toc_position": {},
   "toc_section_display": "block",
   "toc_window_display": true
  },
  "varInspector": {
   "cols": {
    "lenName": 16,
    "lenType": 16,
    "lenVar": 40
   },
   "kernels_config": {
    "python": {
     "delete_cmd_postfix": "",
     "delete_cmd_prefix": "del ",
     "library": "var_list.py",
     "varRefreshCmd": "print(var_dic_list())"
    },
    "r": {
     "delete_cmd_postfix": ") ",
     "delete_cmd_prefix": "rm(",
     "library": "var_list.r",
     "varRefreshCmd": "cat(var_dic_list()) "
    }
   },
   "position": {
    "height": "635px",
    "left": "1779.25px",
    "right": "-167px",
    "top": "127px",
    "width": "554px"
   },
   "types_to_exclude": [
    "module",
    "function",
    "builtin_function_or_method",
    "instance",
    "_Feature"
   ],
   "window_display": false
  }
 },
 "nbformat": 4,
 "nbformat_minor": 2
}
